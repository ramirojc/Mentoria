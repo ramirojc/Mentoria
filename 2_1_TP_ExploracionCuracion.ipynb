{
  "nbformat": 4,
  "nbformat_minor": 0,
  "metadata": {
    "colab": {
      "name": "2_1_TPractico2_ExploracionCuracion.ipynb",
      "provenance": [],
      "collapsed_sections": [],
      "mount_file_id": "1j12HojNnqlbN2jRCZfHd-cDFrysCD8pV",
      "authorship_tag": "ABX9TyPeYtma88zLiIL6MhczdndN",
      "include_colab_link": true
    },
    "kernelspec": {
      "name": "python3",
      "display_name": "Python 3"
    }
  },
  "cells": [
    {
      "cell_type": "markdown",
      "metadata": {
        "id": "view-in-github",
        "colab_type": "text"
      },
      "source": [
        "<a href=\"https://colab.research.google.com/github/ramirojc/Mentoria/blob/master/2_1_TPractico2_ExploracionCuracion.ipynb\" target=\"_parent\"><img src=\"https://colab.research.google.com/assets/colab-badge.svg\" alt=\"Open In Colab\"/></a>"
      ]
    },
    {
      "cell_type": "markdown",
      "metadata": {
        "id": "6rj5IlyYDYLD",
        "colab_type": "text"
      },
      "source": [
        "## Introduccion, Analisis y Curacion de Datos\n",
        "\n",
        "## Diplodatos 2020, Mentorias\n",
        "### Mentor: Ramiro Caro"
      ]
    },
    {
      "cell_type": "code",
      "metadata": {
        "id": "A9-o_rCuyZes",
        "colab_type": "code",
        "colab": {}
      },
      "source": [
        "!pip install geopandas\n",
        "!apt install libspatialindex-dev\n",
        "!pip install rtree\n",
        "!pip install osmnx\n",
        "!pip install contextily"
      ],
      "execution_count": null,
      "outputs": []
    },
    {
      "cell_type": "markdown",
      "metadata": {
        "id": "YoEmMUucwpu6",
        "colab_type": "text"
      },
      "source": [
        "## Introduccion, carga de datos\n",
        "\n",
        "A partir de este punto, utilizaremos los transformadores de distribucion como elemnto de analisis, e incorporaremos datos de consumidores, subestacion y lineas de distribucion."
      ]
    },
    {
      "cell_type": "code",
      "metadata": {
        "id": "7QiqtG-9ybT-",
        "colab_type": "code",
        "colab": {}
      },
      "source": [
        "import geopandas as gpd\n",
        "import pandas as pd\n",
        "from shapely.geometry import Point, LineString, Polygon, MultiPoint, MultiLineString\n",
        "import contextily as ctx"
      ],
      "execution_count": null,
      "outputs": []
    },
    {
      "cell_type": "code",
      "metadata": {
        "id": "a-wN4MnfyTCk",
        "colab_type": "code",
        "colab": {}
      },
      "source": [
        "# Editar con el path correspondiente a sus datos\n",
        "data_path = './drive/My Drive/BDGD/SULGIPE_46_2018-12-31_M10_20190611-1750.gdb'"
      ],
      "execution_count": null,
      "outputs": []
    },
    {
      "cell_type": "code",
      "metadata": {
        "id": "T1xC2lhcuRy-",
        "colab_type": "code",
        "colab": {
          "base_uri": "https://localhost:8080/",
          "height": 136
        },
        "outputId": "0515c613-1ac1-41c2-903b-8a451f0fb6b4"
      },
      "source": [
        "untrd = gpd.read_file(data_path, driver='FileGDB', layer='UNTRD')\n",
        "untrd.shape, untrd.columns"
      ],
      "execution_count": null,
      "outputs": [
        {
          "output_type": "execute_result",
          "data": {
            "text/plain": [
              "((10508, 33),\n",
              " Index(['COD_ID', 'DIST', 'PAC_1', 'PAC_2', 'PAC_3', 'FAS_CON_P', 'FAS_CON_S',\n",
              "        'FAS_CON_T', 'SIT_ATIV', 'TIP_UNID', 'POS', 'ATRB_PER', 'TEN_LIN_SE',\n",
              "        'CAP_ELO', 'CAP_CHA', 'TAP', 'CONF', 'POSTO', 'POT_NOM', 'PER_FER',\n",
              "        'PER_TOT', 'DAT_CON', 'CTMT', 'UNI_TR_S', 'SUB', 'CONJ', 'MUN', 'BANC',\n",
              "        'TIP_TRAFO', 'MRT', 'DESCR', 'ARE_LOC', 'geometry'],\n",
              "       dtype='object'))"
            ]
          },
          "metadata": {
            "tags": []
          },
          "execution_count": 10
        }
      ]
    },
    {
      "cell_type": "code",
      "metadata": {
        "id": "F0yigp8pyWvx",
        "colab_type": "code",
        "colab": {
          "base_uri": "https://localhost:8080/",
          "height": 204
        },
        "outputId": "e6e45e5d-6737-4fad-b67f-a9bc09272100"
      },
      "source": [
        "untrs = gpd.read_file(data_path, driver='FileGDB', layer='UNTRS')\n",
        "untrs.shape, untrs.columns"
      ],
      "execution_count": null,
      "outputs": [
        {
          "output_type": "execute_result",
          "data": {
            "text/plain": [
              "((17, 53),\n",
              " Index(['COD_ID', 'SUB', 'BARR_1', 'BARR_2', 'BARR_3', 'PAC_1', 'PAC_2',\n",
              "        'PAC_3', 'DIST', 'FAS_CON_P', 'FAS_CON_S', 'FAS_CON_T', 'SIT_ATIV',\n",
              "        'TIP_UNID', 'POS', 'POT_NOM', 'POT_F01', 'POT_F02', 'PER_FER',\n",
              "        'PER_TOT', 'BANC', 'DAT_CON', 'CONJ', 'MUN', 'TIP_TRAFO', 'ALOC_PERD',\n",
              "        'ENES_01', 'ENES_02', 'ENES_03', 'ENES_04', 'ENES_05', 'ENES_06',\n",
              "        'ENES_07', 'ENES_08', 'ENES_09', 'ENES_10', 'ENES_11', 'ENES_12',\n",
              "        'ENET_01', 'ENET_02', 'ENET_03', 'ENET_04', 'ENET_05', 'ENET_06',\n",
              "        'ENET_07', 'ENET_08', 'ENET_09', 'ENET_10', 'ENET_11', 'ENET_12',\n",
              "        'DESCR', 'ARE_LOC', 'geometry'],\n",
              "       dtype='object'))"
            ]
          },
          "metadata": {
            "tags": []
          },
          "execution_count": 11
        }
      ]
    },
    {
      "cell_type": "code",
      "metadata": {
        "id": "neS4sBkdzboc",
        "colab_type": "code",
        "colab": {
          "base_uri": "https://localhost:8080/",
          "height": 187
        },
        "outputId": "501b300d-58e6-4d85-9ab7-32b23ac79190"
      },
      "source": [
        "ssmt = gpd.read_file(data_path, driver='FileGDB', layer='SSDMT')\n",
        "ssmt.columns, ssmt.columns"
      ],
      "execution_count": null,
      "outputs": [
        {
          "output_type": "execute_result",
          "data": {
            "text/plain": [
              "(Index(['COD_ID', 'PN_CON_1', 'PN_CON_2', 'CTMT', 'UNI_TR_S', 'SUB', 'CONJ',\n",
              "        'DIST', 'PAC_1', 'PAC_2', 'FAS_CON', 'TIP_CND', 'POS', 'ODI_FAS',\n",
              "        'TI_FAS', 'ODI_NEU', 'TI_NEU', 'COMP', 'DESCR', 'SITCONTFAS',\n",
              "        'SITCONTNEU', 'ARE_LOC', 'Shape_Length', 'geometry'],\n",
              "       dtype='object'),\n",
              " Index(['COD_ID', 'PN_CON_1', 'PN_CON_2', 'CTMT', 'UNI_TR_S', 'SUB', 'CONJ',\n",
              "        'DIST', 'PAC_1', 'PAC_2', 'FAS_CON', 'TIP_CND', 'POS', 'ODI_FAS',\n",
              "        'TI_FAS', 'ODI_NEU', 'TI_NEU', 'COMP', 'DESCR', 'SITCONTFAS',\n",
              "        'SITCONTNEU', 'ARE_LOC', 'Shape_Length', 'geometry'],\n",
              "       dtype='object'))"
            ]
          },
          "metadata": {
            "tags": []
          },
          "execution_count": 12
        }
      ]
    },
    {
      "cell_type": "code",
      "metadata": {
        "id": "Sp2Ewh9L0cke",
        "colab_type": "code",
        "colab": {
          "base_uri": "https://localhost:8080/",
          "height": 289
        },
        "outputId": "4ce1ee12-69fe-4677-b2c8-4df0b9db732b"
      },
      "source": [
        "segcon = gpd.read_file(data_path, driver='FileGDB', layer='SEGCON')\n",
        "segcon.columns, segcon.columns"
      ],
      "execution_count": null,
      "outputs": [
        {
          "output_type": "execute_result",
          "data": {
            "text/plain": [
              "(Index(['COD_ID', 'DIST', 'GEOM_CAB', 'FORM_CAB', 'MAT_FAS_1', 'MAT_FAS_2',\n",
              "        'MAT_FAS_3', 'MAT_NEU', 'ISO_FAS_1', 'ISO_FAS_2', 'ISO_FAS_3',\n",
              "        'ISO_NEU', 'CND_FAS', 'R1', 'X1', 'FTRCNV', 'CNOM', 'CMAX', 'CM_FAS',\n",
              "        'TUC_FAS', 'A1_FAS', 'A2_FAS', 'A3_FAS', 'A4_FAS', 'A5_FAS', 'A6_FAS',\n",
              "        'CM_NEU', 'TUC_NEU', 'A1_NEU', 'A2_NEU', 'A3_NEU', 'A4_NEU', 'A5_NEU',\n",
              "        'A6_NEU', 'DESCR', 'BIT_FAS_1', 'BIT_FAS_2', 'BIT_FAS_3', 'BIT_NEU',\n",
              "        'geometry'],\n",
              "       dtype='object'),\n",
              " Index(['COD_ID', 'DIST', 'GEOM_CAB', 'FORM_CAB', 'MAT_FAS_1', 'MAT_FAS_2',\n",
              "        'MAT_FAS_3', 'MAT_NEU', 'ISO_FAS_1', 'ISO_FAS_2', 'ISO_FAS_3',\n",
              "        'ISO_NEU', 'CND_FAS', 'R1', 'X1', 'FTRCNV', 'CNOM', 'CMAX', 'CM_FAS',\n",
              "        'TUC_FAS', 'A1_FAS', 'A2_FAS', 'A3_FAS', 'A4_FAS', 'A5_FAS', 'A6_FAS',\n",
              "        'CM_NEU', 'TUC_NEU', 'A1_NEU', 'A2_NEU', 'A3_NEU', 'A4_NEU', 'A5_NEU',\n",
              "        'A6_NEU', 'DESCR', 'BIT_FAS_1', 'BIT_FAS_2', 'BIT_FAS_3', 'BIT_NEU',\n",
              "        'geometry'],\n",
              "       dtype='object'))"
            ]
          },
          "metadata": {
            "tags": []
          },
          "execution_count": 14
        }
      ]
    },
    {
      "cell_type": "code",
      "metadata": {
        "id": "KacEd34JzdO4",
        "colab_type": "code",
        "colab": {
          "base_uri": "https://localhost:8080/",
          "height": 255
        },
        "outputId": "7ee4cc05-3912-4d07-e3b0-52f433974dab"
      },
      "source": [
        "ucbt = gpd.read_file(data_path, driver='FileGDB', layer='UCBT')\n",
        "ucbt.columns, ucbt.columns"
      ],
      "execution_count": null,
      "outputs": [
        {
          "output_type": "execute_result",
          "data": {
            "text/plain": [
              "(Index(['DIST', 'PAC', 'PN_CON', 'UNI_TR_D', 'CTMT', 'UNI_TR_S', 'SUB', 'CONJ',\n",
              "        'MUN', 'BRR', 'CEP', 'CLAS_SUB', 'CNAE', 'TIP_CC', 'FAS_CON', 'GRU_TEN',\n",
              "        'TEN_FORN', 'GRU_TAR', 'SIT_ATIV', 'DAT_CON', 'CAR_INST', 'LIV',\n",
              "        'ENE_01', 'ENE_02', 'ENE_03', 'ENE_04', 'ENE_05', 'ENE_06', 'ENE_07',\n",
              "        'ENE_08', 'ENE_09', 'ENE_10', 'ENE_11', 'ENE_12', 'DIC', 'FIC',\n",
              "        'SEMRED', 'DESCR', 'ARE_LOC', 'geometry'],\n",
              "       dtype='object'),\n",
              " Index(['DIST', 'PAC', 'PN_CON', 'UNI_TR_D', 'CTMT', 'UNI_TR_S', 'SUB', 'CONJ',\n",
              "        'MUN', 'BRR', 'CEP', 'CLAS_SUB', 'CNAE', 'TIP_CC', 'FAS_CON', 'GRU_TEN',\n",
              "        'TEN_FORN', 'GRU_TAR', 'SIT_ATIV', 'DAT_CON', 'CAR_INST', 'LIV',\n",
              "        'ENE_01', 'ENE_02', 'ENE_03', 'ENE_04', 'ENE_05', 'ENE_06', 'ENE_07',\n",
              "        'ENE_08', 'ENE_09', 'ENE_10', 'ENE_11', 'ENE_12', 'DIC', 'FIC',\n",
              "        'SEMRED', 'DESCR', 'ARE_LOC', 'geometry'],\n",
              "       dtype='object'))"
            ]
          },
          "metadata": {
            "tags": []
          },
          "execution_count": 13
        }
      ]
    },
    {
      "cell_type": "markdown",
      "metadata": {
        "id": "pa-bOWcEhua5",
        "colab_type": "text"
      },
      "source": [
        "## Informacion sobre consumindores\n",
        "\n",
        "1 - En base a los resultados obtenidos en el practico 1. Defina que informacion sobre consumidores, es la mas relevante para la estimacion de calidad de servicio.\n",
        "\n",
        "2 - Realize el tratamiento de las filas con valores invalidos y outliers, y luego agrupe los datos en base a la variable UNI_TF_D.\n",
        "\n",
        "3 - Justifique los metodos utilizados para agrupar las variables numericas y categoricas."
      ]
    },
    {
      "cell_type": "code",
      "metadata": {
        "id": "NuQfSR9NJZe2",
        "colab_type": "code",
        "colab": {}
      },
      "source": [
        "## "
      ],
      "execution_count": null,
      "outputs": []
    },
    {
      "cell_type": "markdown",
      "metadata": {
        "id": "L9pgI86JjO8v",
        "colab_type": "text"
      },
      "source": [
        "## Informacion sobre subestacion\n",
        "\n",
        "4 - Analise la informacion disponible sobre los transformadores de segmentacion (UNI_TR_S > UNTRS)\n",
        "\n",
        "5 - Seleccione las variables relevantes, realize tratamiento de valores invalidos y outliers correspondientes. Agrupe los valores por UNTRD y agregue al dataset."
      ]
    },
    {
      "cell_type": "code",
      "metadata": {
        "id": "MywEq68gzzGh",
        "colab_type": "code",
        "colab": {}
      },
      "source": [
        ""
      ],
      "execution_count": null,
      "outputs": []
    },
    {
      "cell_type": "markdown",
      "metadata": {
        "id": "M7DVfIv9kRca",
        "colab_type": "text"
      },
      "source": [
        "## Generacion de variables en base a puntos de referencia\n",
        "\n",
        "5 - Calcule la distancia euclideana de cada untrd al correspondiente untrs y adicione al dataset.\n",
        "\n",
        "6 - Cree una variable que sea la distancia media a los tres centros urbanos mas cercanos.\n",
        "\n",
        "7 - Usando OSMnx descargue la informacion sobre caminos dentro del area de cobertura de la distribuidora. Cree variables para las distancias a autopistas (trunk), a caminos primarios (primary) y a caminos secundarios (secondary)\n"
      ]
    },
    {
      "cell_type": "code",
      "metadata": {
        "id": "0i4vsOVXpl6Q",
        "colab_type": "code",
        "colab": {}
      },
      "source": [
        ""
      ],
      "execution_count": null,
      "outputs": []
    },
    {
      "cell_type": "markdown",
      "metadata": {
        "id": "Y8kY4fHOoZkF",
        "colab_type": "text"
      },
      "source": [
        "## Generacion de variables con arboles de busqueda\n",
        "\n",
        "8 - Cree variables que indique la cantidad de consumidores en radios de 25, 50 y 100 metros del transformador.\n",
        "\n",
        "9 - Cree una variable indicando la distancia media de cada fila a los 5 untrd mas cercanos.\n",
        "\n",
        "10 - [Opcional] Usando OSMnx descargue los footprints de edificios disponibles, y cree una variable que indique la cantidad de edificios en un radio de 200 metros al transformador."
      ]
    },
    {
      "cell_type": "code",
      "metadata": {
        "id": "0_WPCpDDoB3O",
        "colab_type": "code",
        "colab": {}
      },
      "source": [
        ""
      ],
      "execution_count": null,
      "outputs": []
    },
    {
      "cell_type": "markdown",
      "metadata": {
        "id": "u12CHTmpppf7",
        "colab_type": "text"
      },
      "source": [
        "## Generacion de grafos y calculo de rutas\n",
        "\n",
        "11 - Usando las tecnicas mostradas en el notebook sobre procesamiento de informacion georeferenciada, construya un grafo basado en la capa de linea de distribicion de media tension:\n",
        "  - Utilize los puntos de conexion PCON_1 y PCON_2 como nodos, y los segmentos como edges.\n",
        "  - Adicione COMP y COD_ID como atributos de edge (aristas)\n",
        "  - Asocie cada transformador untrd con un nodo\n",
        "  - Asocie cada punto de conexion los circuitos de media tension (CTMT) con la subestacion, a un nodo.\n",
        "\n",
        "12 - Seleccione al menos 5 metricas de grafo, calcule sus valores para los nodos asociados a cada fila y adicionelos como features al dataset.\n",
        "\n",
        "13 - [Opcional] Cree convinaciones entre las metricas generando variables adicionales.\n",
        "\n",
        "14 - Calcule la distancia de cada untrd a su correspondiente punto de conexion con la subestacion, ponderando por COMP (longitud de segmento), utilize el parametro \"method\" para calcular diferentes tipos de distancias.\n",
        "Adicione los resultados como variables del dataset.\n",
        "\n",
        "15 - Calcule la ruta (secuencia de nodos) hasta la conexion con la subestacion, y en base a esta calcule:\n",
        " - Resistencia electica total de cada conexion\n",
        " - Reactancia electrica de cada conexion.\n",
        " [Opcional]\n",
        " - Modulo y Angulo de la Impedancia.\n",
        " - Corriente Nonimal media a lo largo de la ruta\n",
        " - Corriente Maxima media del conductor a lo largo la ruta"
      ]
    },
    {
      "cell_type": "code",
      "metadata": {
        "id": "4lTCR0RKuKnH",
        "colab_type": "code",
        "colab": {}
      },
      "source": [
        ""
      ],
      "execution_count": null,
      "outputs": []
    }
  ]
}
