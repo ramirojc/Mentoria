{
  "nbformat": 4,
  "nbformat_minor": 0,
  "metadata": {
    "colab": {
      "name": "3_1_TPractico3_IntroAlAprendizaje.ipynb",
      "provenance": [],
      "collapsed_sections": []
    },
    "kernelspec": {
      "name": "python3",
      "display_name": "Python 3"
    }
  },
  "cells": [
    {
      "cell_type": "markdown",
      "metadata": {
        "id": "sYYXbVB6Qu1s",
        "colab_type": "text"
      },
      "source": [
        "## Importar Librerias"
      ]
    },
    {
      "cell_type": "code",
      "metadata": {
        "id": "H8KsnW0aZBSO",
        "colab_type": "code",
        "colab": {
          "base_uri": "https://localhost:8080/",
          "height": 70
        },
        "outputId": "3166742e-8b30-4e33-aba0-664ac294e27e"
      },
      "source": [
        "# Importación de las librerías necesarias\n",
        "import numpy as np\n",
        "import pandas as pd\n",
        "# Puede que nos sirvan también\n",
        "import matplotlib.pyplot as plt\n",
        "%matplotlib inline\n",
        "import seaborn as sns\n",
        "\n",
        "from sklearn import preprocessing\n",
        "from sklearn.utils import shuffle\n",
        "from sklearn.linear_model import LogisticRegression, Perceptron, Ridge\n",
        "from sklearn.metrics import accuracy_score, confusion_matrix, mean_squared_error, classification_report, roc_curve, auc\n",
        "from sklearn.linear_model import SGDClassifier\n",
        "from sklearn.model_selection import train_test_split, GridSearchCV\n",
        "\n",
        "np.random.seed(0)  # Para mayor determinismo"
      ],
      "execution_count": 1,
      "outputs": [
        {
          "output_type": "stream",
          "text": [
            "/usr/local/lib/python3.6/dist-packages/statsmodels/tools/_testing.py:19: FutureWarning: pandas.util.testing is deprecated. Use the functions in the public API at pandas.testing instead.\n",
            "  import pandas.util.testing as tm\n"
          ],
          "name": "stderr"
        }
      ]
    },
    {
      "cell_type": "markdown",
      "metadata": {
        "id": "eYfP2gAkQ0UA",
        "colab_type": "text"
      },
      "source": [
        "## 1.Carga de datos\n",
        "\n",
        "Al final del practico anterior obtuvimos un dataset enriquesido con features georeferenciadas. Es el momento de utilizarlo.\n",
        "\n",
        "Exporta el dataframe obtenido en el ultimo practico a un csv y cargalo como dataframe."
      ]
    },
    {
      "cell_type": "code",
      "metadata": {
        "id": "Dtj0qCSUQzGQ",
        "colab_type": "code",
        "colab": {}
      },
      "source": [
        ""
      ],
      "execution_count": null,
      "outputs": []
    },
    {
      "cell_type": "markdown",
      "metadata": {
        "id": "ZP7ObB1GRT9J",
        "colab_type": "text"
      },
      "source": [
        "Ahora debemos eliminar variables que no aporte informacion por ejemplo:\n",
        "\n",
        "\n",
        "*   Indices y IDs\n",
        "*   Referencias a otras tablas\n",
        "*   Variables compuestas (listas, jsons, geometrias)\n",
        "\n",
        "Identifica las variables que cumplen este criterio y eliminelas del dataset. Retira tambien la variable de salida que no van a utilizar FIC o DIC.\n",
        "\n"
      ]
    },
    {
      "cell_type": "code",
      "metadata": {
        "id": "tQ89yxpfSDDN",
        "colab_type": "code",
        "colab": {}
      },
      "source": [
        ""
      ],
      "execution_count": null,
      "outputs": []
    },
    {
      "cell_type": "markdown",
      "metadata": {
        "id": "NpAzkeVtSdIy",
        "colab_type": "text"
      },
      "source": [
        "## 2. Preprosecamiento y particion de datos\n",
        "\n",
        "Siempre se recomienda partir los datos antes de realizar el preprocesamiento, y guardar el pipeline de transformacion para aplicar en operaciones futuras.\n",
        "\n",
        "Sin embargo algunas operaciones principalmente la codificacion de variables puede realizarse antes de hacer la particion ya que no representa una interaccion entre las filas.\n",
        "\n",
        "Genere una particion de datos en sets de entrenamiento y validacion."
      ]
    },
    {
      "cell_type": "code",
      "metadata": {
        "id": "aZ0IBhiKWJuy",
        "colab_type": "code",
        "colab": {}
      },
      "source": [
        ""
      ],
      "execution_count": null,
      "outputs": []
    },
    {
      "cell_type": "markdown",
      "metadata": {
        "id": "hcB9QP1LYEPv",
        "colab_type": "text"
      },
      "source": [
        "Un elemento que tenemos que siempre debemos tener en cuenta es que el procesamiento que debemos hacer sobre los datos esta relacionado con el algoritmo que vayas a implementar."
      ]
    },
    {
      "cell_type": "markdown",
      "metadata": {
        "id": "CaSwP6dqXeNr",
        "colab_type": "text"
      },
      "source": [
        "## 3. Preparacion de datos para regresion lineal\n",
        "\n",
        "Los algoritmos de regresion solo aceptan entradas numericas, por lo tanto el primer paso que debemos realizar es codificar las variables categoricas numericamente.\n",
        "\n",
        "Adicionalmente las diferencias en las dimensiones absolutas de las variables van a tener un impacto muy pronunciado en los coeficientes calculados por lo que tambien se recomienda realizar la normalizacion de las variables. \n",
        "\n",
        "Esto puede hacerse de varias maneras:\n",
        "\n",
        "*   Media/Mediana y desviacion standard\n",
        "*   Minimo y Maximo (Cuidado con los outliers)\n",
        "*   De 1 a -1\n",
        "\n",
        "Implemente una funcion o pipeline que aplique codificacion de variables categoricas y luego normalizacion. Recuerde que los parametros de normalizacion se calculan usando unicamente los valores de entrenamiento."
      ]
    },
    {
      "cell_type": "code",
      "metadata": {
        "id": "JsIoknucYDOD",
        "colab_type": "code",
        "colab": {}
      },
      "source": [
        ""
      ],
      "execution_count": null,
      "outputs": []
    },
    {
      "cell_type": "markdown",
      "metadata": {
        "id": "0i5U-CAibQf-",
        "colab_type": "text"
      },
      "source": [
        "## 4. Regresion lineal simple y regularizada.\n",
        "\n",
        "Con los datos preprocesados obtenidos en el punto anterior implemente una regresion lineal. "
      ]
    },
    {
      "cell_type": "code",
      "metadata": {
        "id": "BgB0ItREcS10",
        "colab_type": "code",
        "colab": {}
      },
      "source": [
        ""
      ],
      "execution_count": null,
      "outputs": []
    },
    {
      "cell_type": "markdown",
      "metadata": {
        "id": "QLJNebX5cT58",
        "colab_type": "text"
      },
      "source": [
        "### Evaluacion del modelo\n",
        "\n",
        "Para evaluar el modelo calcule R cuadrado, error medio absoluto y error medio cuadrado. Tanto de entrenamiento como de validacion."
      ]
    },
    {
      "cell_type": "code",
      "metadata": {
        "id": "6jxOOsbMcVJM",
        "colab_type": "code",
        "colab": {}
      },
      "source": [
        ""
      ],
      "execution_count": null,
      "outputs": []
    },
    {
      "cell_type": "markdown",
      "metadata": {
        "id": "Qs734DNnceT9",
        "colab_type": "text"
      },
      "source": [
        "### Analisis de residuos\n",
        "\n",
        "Otro punto importante en la evaluacion de los modelos de regresion, es no solo saber cuanto es el error sino como se distribuye. Para eso realizamos un analisis de residuos. Los residuos son simplemente las desviaciones de la prediccion al valor real.\n",
        "\n",
        "Primero grafique la distribucion de los residuos."
      ]
    },
    {
      "cell_type": "code",
      "metadata": {
        "id": "aAPxFUjNd8lE",
        "colab_type": "code",
        "colab": {}
      },
      "source": [
        ""
      ],
      "execution_count": null,
      "outputs": []
    },
    {
      "cell_type": "markdown",
      "metadata": {
        "id": "zd0hbld0d_2L",
        "colab_type": "text"
      },
      "source": [
        "Esta distribucion debe estar centrada en cero y deberia tender a ser simetrica.\n",
        "\n",
        "**A continuacion genere un scatter plot entre la prediccion y el error.** \n",
        "\n",
        "Esto deberia verse principalmente como ruido, ya que no deberia haber correlacion entre estos valores."
      ]
    },
    {
      "cell_type": "code",
      "metadata": {
        "id": "EGLkv8khfOri",
        "colab_type": "code",
        "colab": {}
      },
      "source": [
        ""
      ],
      "execution_count": null,
      "outputs": []
    },
    {
      "cell_type": "markdown",
      "metadata": {
        "id": "1DKwqMKlfQj5",
        "colab_type": "text"
      },
      "source": [
        "Finalmente el ultimo grafico que realizaremos es el QQ Plot, que nos indicara la distribucion del error a lo largo de los cuartiles.\n",
        "\n",
        "**Genere un qq plot con las predicciones realizadas.**\n",
        "(from statsmodels.graphics.gofplots import qqplot)\n"
      ]
    },
    {
      "cell_type": "code",
      "metadata": {
        "id": "PzprfV8FfyXR",
        "colab_type": "code",
        "colab": {}
      },
      "source": [
        ""
      ],
      "execution_count": null,
      "outputs": []
    },
    {
      "cell_type": "markdown",
      "metadata": {
        "id": "YI13LHJqfzzd",
        "colab_type": "text"
      },
      "source": [
        "En este caso los valores deben concentrarse sobre la linea diagonal."
      ]
    },
    {
      "cell_type": "code",
      "metadata": {
        "id": "O9YH_amuf6-U",
        "colab_type": "code",
        "colab": {}
      },
      "source": [
        ""
      ],
      "execution_count": null,
      "outputs": []
    },
    {
      "cell_type": "markdown",
      "metadata": {
        "id": "2Vq_gqsSi9il",
        "colab_type": "text"
      },
      "source": [
        "#### Opcional:\n",
        "\n",
        "La regularizacion es un metodo mediante el cual se penalisa el valor obsoluto de los coeficientes, de este modo se encuentran modelos mas estables y menos propensos a overfiear los datos.\n",
        "\n",
        "Implemente una Regresion tipo Lasso (Regularizacion tipo L1) o tipo Ridge (Regularizacion tipo L2), calcula sus metricas y compare con la regresion lineal comun."
      ]
    },
    {
      "cell_type": "code",
      "metadata": {
        "id": "2Qz3WnvzknIH",
        "colab_type": "code",
        "colab": {}
      },
      "source": [
        ""
      ],
      "execution_count": null,
      "outputs": []
    },
    {
      "cell_type": "markdown",
      "metadata": {
        "id": "xUtOtLRHkq3l",
        "colab_type": "text"
      },
      "source": [
        "## 5. Importancia de las variables, Regresion Lineal\n",
        "\n",
        "En base a la arquitectura del modelo y utilizando los coeficientes del modelo, determine cuales son las 10 variables de mayor peso en el modelo y explique porque."
      ]
    },
    {
      "cell_type": "code",
      "metadata": {
        "id": "xFo9vfr9lGoL",
        "colab_type": "code",
        "colab": {}
      },
      "source": [
        ""
      ],
      "execution_count": null,
      "outputs": []
    },
    {
      "cell_type": "markdown",
      "metadata": {
        "id": "clG7lNcDgB9w",
        "colab_type": "text"
      },
      "source": [
        "## 6. Preparacion de datos para algoritmos basados en arboles\n",
        "\n",
        "Otra rama muy utilizada de modelos son aquellos basados en arboles de decision, como Bagging, Random Forrest o Boosting. En nuestro caso utilizaremos una implementacion de Boosting por gradiente denominada XGBoost que es reconocida por producir muy buenos resultados.\n",
        "\n",
        "Dada la naturaleza de los arboles de decision en este caso es necesario normalizar los datos. Para demostrarlo, entrene dos modelos con parametros por default, utilizando el dataset normalizado y sin normalizar."
      ]
    },
    {
      "cell_type": "code",
      "metadata": {
        "id": "0zgvRXjciR2N",
        "colab_type": "code",
        "colab": {}
      },
      "source": [
        ""
      ],
      "execution_count": null,
      "outputs": []
    },
    {
      "cell_type": "code",
      "metadata": {
        "id": "PxQzAc1LiTGT",
        "colab_type": "code",
        "colab": {}
      },
      "source": [
        ""
      ],
      "execution_count": null,
      "outputs": []
    },
    {
      "cell_type": "markdown",
      "metadata": {
        "id": "wfDQmTceiVQm",
        "colab_type": "text"
      },
      "source": [
        "### Evaluacion del modelo, XGBoost\n",
        "\n",
        "Seleccione uno de los modelos, calcule las metricas y realize el analisis un analisis de residuos, similar al realizado anteriormente."
      ]
    },
    {
      "cell_type": "code",
      "metadata": {
        "id": "CYem24gxiyk0",
        "colab_type": "code",
        "colab": {}
      },
      "source": [
        ""
      ],
      "execution_count": null,
      "outputs": []
    },
    {
      "cell_type": "code",
      "metadata": {
        "id": "Uo43u6ynizbc",
        "colab_type": "code",
        "colab": {}
      },
      "source": [
        ""
      ],
      "execution_count": null,
      "outputs": []
    },
    {
      "cell_type": "code",
      "metadata": {
        "id": "qXtR0_7GizTC",
        "colab_type": "code",
        "colab": {}
      },
      "source": [
        ""
      ],
      "execution_count": null,
      "outputs": []
    },
    {
      "cell_type": "markdown",
      "metadata": {
        "id": "QAlAg15ziz--",
        "colab_type": "text"
      },
      "source": [
        "## 7. Importancia de las variables\n",
        "\n",
        "Utilize el metodo \"Feature Importance\" para determinar las 10 variables mas importante del modelo, verifique los diferentes criterios de calculo, seleccione uno y grafique sus coeficientes."
      ]
    },
    {
      "cell_type": "code",
      "metadata": {
        "id": "mcK1KRQClPil",
        "colab_type": "code",
        "colab": {}
      },
      "source": [
        ""
      ],
      "execution_count": null,
      "outputs": []
    },
    {
      "cell_type": "markdown",
      "metadata": {
        "id": "zxP3JkxrmXdX",
        "colab_type": "text"
      },
      "source": [
        "## 8. (Opcional) Conversion a problema de clasificacion\n",
        "\n",
        "Podemos cambiar la naturaleza del problema de regresion a clasificacion simplemente cuantizando la salida y asignando una categoria cada intervalo.\n",
        "\n",
        "Separe la salida en 5 intervalos segun su criterio, asignele categorias de 0 a 5, siendo 0 la peor calidad y 5 la mejor.\n",
        "\n",
        "Entrene un classificador XGBoost, y calcule las metricas de accuracy, precision, recall, f1 score."
      ]
    },
    {
      "cell_type": "code",
      "metadata": {
        "id": "mPbRx7QfndgD",
        "colab_type": "code",
        "colab": {}
      },
      "source": [
        ""
      ],
      "execution_count": null,
      "outputs": []
    },
    {
      "cell_type": "markdown",
      "metadata": {
        "id": "WKucLSOol7Nv",
        "colab_type": "text"
      },
      "source": [
        "## 9. Conclusiones\n",
        "\n",
        "A partir de todos los puntos anteriores exponga sus impresiones y conclusiones personales."
      ]
    },
    {
      "cell_type": "code",
      "metadata": {
        "id": "_5rj2HADmQjg",
        "colab_type": "code",
        "colab": {}
      },
      "source": [
        ""
      ],
      "execution_count": null,
      "outputs": []
    }
  ]
}